{
 "cells": [
  {
   "cell_type": "code",
   "execution_count": null,
   "id": "31327567-57f7-48c8-8ecb-28a0d41cd09e",
   "metadata": {},
   "outputs": [],
   "source": [
    "!wget https://raw.githubusercontent.com/karpathy/char-rnn/master/data/tinyshakespeare/input.txt"
   ]
  },
  {
   "cell_type": "code",
   "execution_count": 2,
   "id": "acf9fbf9-33ba-4441-97b8-38df4dd3150a",
   "metadata": {},
   "outputs": [],
   "source": [
    "with open('input.txt', 'r', encoding='utf-8') as f:\n",
    "    text = f.read()"
   ]
  },
  {
   "cell_type": "code",
   "execution_count": 3,
   "id": "64dc311b-836b-45cf-9259-344e1fa352aa",
   "metadata": {
    "scrolled": true
   },
   "outputs": [
    {
     "name": "stdout",
     "output_type": "stream",
     "text": [
      "First Citizen:\n",
      "Before we proceed any further, hear me speak.\n",
      "\n",
      "All:\n",
      "Speak, speak.\n",
      "\n",
      "First Citizen:\n",
      "You\n"
     ]
    }
   ],
   "source": [
    "print(text[:100])"
   ]
  },
  {
   "cell_type": "code",
   "execution_count": 4,
   "id": "d40f0039-2fd8-47b6-9745-2fe3498d5617",
   "metadata": {},
   "outputs": [
    {
     "name": "stdout",
     "output_type": "stream",
     "text": [
      "\n",
      " !$&',-.3:;?ABCDEFGHIJKLMNOPQRSTUVWXYZabcdefghijklmnopqrstuvwxyz\n",
      "65\n"
     ]
    }
   ],
   "source": [
    "chars = sorted(list(set(text)))\n",
    "vocab_size = len(chars)\n",
    "print(''.join(chars))\n",
    "print(vocab_size)"
   ]
  },
  {
   "cell_type": "code",
   "execution_count": 5,
   "id": "7dd283a6-4345-4533-aad8-e187de35ef47",
   "metadata": {},
   "outputs": [
    {
     "name": "stdout",
     "output_type": "stream",
     "text": [
      "[46, 47, 47, 1, 58, 46, 43, 56, 43, 2]\n",
      "hii there!\n"
     ]
    }
   ],
   "source": [
    "stoi = {ch:i for i,ch in enumerate(chars)}\n",
    "itos = {i:ch for i,ch in enumerate(chars)}\n",
    "encode = lambda s: [stoi[c] for c in s] # encoder: take a string, output a list of integers\n",
    "decode = lambda l: ''.join([itos[i] for i in l]) # decoder: \n",
    "# encode(\"gooz\")\n",
    "# for i in encode(\"gooz\"):\n",
    "#     print(itos[i])\n",
    "\n",
    "print(encode(\"hii there!\"))\n",
    "print(decode(encode(\"hii there!\")))"
   ]
  },
  {
   "cell_type": "code",
   "execution_count": 8,
   "id": "da92effa-8a05-44fb-b20d-c591ab553565",
   "metadata": {},
   "outputs": [
    {
     "name": "stdout",
     "output_type": "stream",
     "text": [
      "torch.Size([1115394]) torch.int64\n",
      "tensor([18, 47, 56, 57, 58,  1, 15, 47, 58, 47, 64, 43, 52, 10,  0, 14, 43, 44,\n",
      "        53, 56, 43,  1, 61, 43,  1, 54, 56, 53, 41, 43, 43, 42,  1, 39, 52, 63,\n",
      "         1, 44, 59, 56, 58, 46, 43, 56,  6,  1, 46, 43, 39, 56,  1, 51, 43,  1,\n",
      "        57, 54, 43, 39, 49,  8,  0,  0, 13, 50, 50, 10,  0, 31, 54, 43, 39, 49,\n",
      "         6,  1, 57, 54, 43, 39, 49,  8,  0,  0, 18, 47, 56, 57, 58,  1, 15, 47,\n",
      "        58, 47, 64, 43, 52, 10,  0, 37, 53, 59])\n"
     ]
    }
   ],
   "source": [
    "import torch\n",
    "data = torch.tensor(encode(text), dtype=torch.long)\n",
    "print(data.shape, data.dtype)\n",
    "print(data[:100]) # the 1000 characters we looked at earlier will look like this to GPT"
   ]
  },
  {
   "cell_type": "code",
   "execution_count": 9,
   "id": "f46b218f-6cd1-457c-a17a-834b756c3e88",
   "metadata": {},
   "outputs": [
    {
     "name": "stdout",
     "output_type": "stream",
     "text": [
      "1003854\n",
      "111540\n"
     ]
    }
   ],
   "source": [
    "n = int(len(data)* 0.9)\n",
    "train_data = data[:n]\n",
    "val_data = data[n:]\n",
    "print(len(train_data))\n",
    "print(len(val_data))"
   ]
  },
  {
   "cell_type": "code",
   "execution_count": 12,
   "id": "20dc3ba0-0f17-49f3-a7bc-c583eb4a5319",
   "metadata": {},
   "outputs": [
    {
     "name": "stdout",
     "output_type": "stream",
     "text": [
      "inputs:\n",
      "torch.Size([4, 8])\n",
      "tensor([[24, 43, 58,  5, 57,  1, 46, 43],\n",
      "        [44, 53, 56,  1, 58, 46, 39, 58],\n",
      "        [52, 58,  1, 58, 46, 39, 58,  1],\n",
      "        [25, 17, 27, 10,  0, 21,  1, 54]])\n",
      "targets:\n",
      "torch.Size([4, 8])\n",
      "tensor([[43, 58,  5, 57,  1, 46, 43, 39],\n",
      "        [53, 56,  1, 58, 46, 39, 58,  1],\n",
      "        [58,  1, 58, 46, 39, 58,  1, 46],\n",
      "        [17, 27, 10,  0, 21,  1, 54, 39]])\n",
      "----\n"
     ]
    }
   ],
   "source": [
    "torch.manual_seed(1337)\n",
    "batch_size = 4 # how many independent sequences will we process in parallel?\n",
    "block_size = 8 # what is the maximum context length for predictions?\n",
    "\n",
    "# generate a small batch of data of inputs x and targets y\n",
    "def get_batch(split):\n",
    "    data = train_data if split == 'train' else val_data\n",
    "    ix = torch.randint(len(data)- block_size, (batch_size,))\n",
    "    x = torch.stack([data[i:i+block_size] for i in ix])\n",
    "    y = torch.stack([data[i+1:i+block_size+1] for i in ix])\n",
    "    return x, y\n",
    "\n",
    "xb, yb = get_batch('train')\n",
    "print('inputs:')\n",
    "print(xb.shape)\n",
    "print(xb)\n",
    "print('targets:')\n",
    "print(yb.shape)\n",
    "print(yb)\n",
    "\n",
    "print('----')\n",
    "\n",
    "for b in range(batch_size): # batch dimension\n",
    "    for t in range(block_size): # time dimension\n",
    "        context = xb[b,:t+1]\n",
    "        target = yb[b,t]\n",
    "        # print(f\"when input is {context.tolist()} the target is: {target} \")"
   ]
  },
  {
   "cell_type": "code",
   "execution_count": 56,
   "id": "24d0039b-7a3a-4411-a181-ccd9413ad4bf",
   "metadata": {},
   "outputs": [
    {
     "name": "stdout",
     "output_type": "stream",
     "text": [
      "torch.Size([32, 65]) tensor(4.2061, grad_fn=<NllLossBackward0>)\n"
     ]
    }
   ],
   "source": [
    "import torch\n",
    "import torch.nn as nn\n",
    "from torch.nn import functional as F\n",
    "torch.manual_seed(1337)\n",
    "\n",
    "# hyperparameters\n",
    "batch_size = 4 # how many independent sequences will we process in parallel?\n",
    "block_size = 8 # what is the maximum context length for predictions?\n",
    "max_iters = 5000\n",
    "eval_interval = 500\n",
    "learning_rate = 1e-3\n",
    "device = 'cuda' if torch.cuda.is_available() else 'cpu'\n",
    "eval_iters = 200\n",
    "n_embd = 32\n",
    "n_head = 4\n",
    "n_layer = 3\n",
    "dropout = 0.2\n",
    "# ---------------------\n",
    "\n",
    "class Head(nn.Module):\n",
    "\t\"\"\" one head of self attention \"\"\"\n",
    "\n",
    "\tdef __init__(self, head_size):\n",
    "\t\tsuper().__init__()\n",
    "\t\tself.key = nn.Linear(n_embd, head_size, bias=False)\n",
    "\t\tself.query = nn.Linear(n_embd, head_size, bias=False)\n",
    "\t\tself.value = nn.Linear(n_embd, head_size, bias=False)\n",
    "\t\tself.register_buffer('tril', torch.tril(torch.ones(block_size, block_size))) # tril is not a parameter of the module, so it's called buffer in pytorch naming convention it's called buffer \n",
    "\t\tself.dropout = nn.Dropout(dropout) # randomly prevent some nodes from communicating\n",
    "\n",
    "\tdef forward(self, x):\n",
    "\t\tB,T,C = x.shape\n",
    "\t\tk = self.query(x) # (B, T, C)\n",
    "\t\tq = self.query(x) # (B, T, C)\n",
    "\t\t# compute attention scores (\"affinities\")\n",
    "\t\twei = q @ k.transpose(-2, -1) * C**-0.5 # (B, T, T)\n",
    "\t\twei = wei.masked_fill(self.tril[:T, :T] == 0, float('-inf')) # (B, T, T)\n",
    "\t\twei = F.softmax(wei, dim=-1) # (B, T, T)\n",
    "\t\twei = self.dropout(wei)\n",
    "\t\t# perform the weighted aggregation of the values\n",
    "\t\tv = self.value(x) # (B, T, C)\n",
    "\t\tout = wei @ v # (B, T, C)\n",
    "\t\treturn out\n",
    "\n",
    "class MultiHeadAttention(nn.Module):\n",
    "\t\"\"\" multiple heads of self-attention in parallel\"\"\"\n",
    "\n",
    "\tdef __init__(self, num_heads, head_size):\n",
    "\t\tsuper().__init__()\n",
    "\t\tself.heads = nn.ModuleList([Head(head_size) for _ in range(num_heads)])\n",
    "\t\tself.proj = nn.Linear(n_embd, n_embd) # Project the residual connections back into a linear layer, mixing the two forked paths\n",
    "\t\tself.dropout = nn.Dropout(dropout)\n",
    "\n",
    "\tdef forward(self, x):\n",
    "\t\tout = torch.cat([h(x) for h in self.heads], dim=-1)\n",
    "\t\tout = self.dropout(self.proj(out))\n",
    "\t\treturn out\n",
    "\n",
    "class FeedFoward(nn.Module):\n",
    "\t\"\"\" a simple linear layer followed by a non-linearity \"\"\"\n",
    "\n",
    "\tdef __init__(self, n_embd):\n",
    "\t\tsuper().__init__()\n",
    "\t\tself.net = nn.Sequential(\n",
    "\t\t\t\tnn.Linear(n_embd, 4 * n_embd), # We multiple inner layer of feedforward from the Transformers paper. It adds computation and growing layer in the residual block \n",
    "\t\t\t\tnn.ReLU(),\n",
    "\t\t\t\tnn.Linear(4 * n_embd, n_embd), # Projection layer going back into residual pathway\n",
    "\t\t\t\tnn.Dropout(dropout)\n",
    "\t\t\t)\n",
    "\n",
    "\tdef forward(self, x):\n",
    "\t\treturn self.net(x)\n",
    "\n",
    "\n",
    "class Block(nn.Module):\n",
    "\t\"\"\" Transformer block: communication followed by computation \"\"\"\n",
    "\n",
    "\tdef __init__(self, n_embd, n_head):\n",
    "\t\tsuper().__init__()\n",
    "\t\thead_size = n_embd // n_head\n",
    "\t\tself.sa_heads = MultiHeadAttention(n_head, head_size) # i.e. 4 heads of 8-dimensional self-attention\n",
    "\t\tself.ffwd = FeedFoward(n_embd)\n",
    "\t\tself.ln1 = nn.LayerNorm(n_embd)\n",
    "\t\tself.ln2 = nn.LayerNorm(n_embd)\n",
    "\n",
    "\tdef forward(self, x):\n",
    "\t\tx = x + self.sa_heads(self.ln1(x)) # apply one head of self-attention. (B, T, C)\n",
    "\t\tx = x + self.ffwd(self.ln2(x)) # (B, T, C)\n",
    "\t\treturn x\n",
    "\n",
    "\n",
    "class BigramLanguageModel(nn.Module):\n",
    "\n",
    "\tdef __init__(self):\n",
    "\t\tsuper().__init__()\n",
    "\t\tself.token_embedding_table = nn.Embedding(vocab_size, n_embd)\n",
    "\t\tself.position_embedding_table = nn.Embedding(block_size, n_embd)\n",
    "\t\tself.blocks = nn.Sequential(*[Block(n_embd, n_head=n_head) for _ in range(n_layer)]) # The asterick unpacks the list since pytorch wants comma separated\n",
    "\t\t# self.blocks = nn.Sequential(\n",
    "\t\t# \tBlock(n_embd, n_head=4),\n",
    "\t\t# \tBlock(n_embd, n_head=4),\n",
    "\t\t# \tBlock(n_embd, n_head=4),\n",
    "\t\t# \tnn.LayerNorm(n_embd),\n",
    "\t\t# )\n",
    "\t\tself.ln_f = nn.LayerNorm(n_embd) # final layer norm\n",
    "\t\tself.lm_head = nn.Linear(n_embd, vocab_size)\n",
    "\t\t\n",
    "\tdef forward(self, idx, targets=None):\n",
    "\t\tB, T = idx.shape\n",
    "\n",
    "\t\t# idx and targets are both (B, T) tensor of integers\n",
    "\t\ttok_emb = self.token_embedding_table(idx) # (B, T, C)\n",
    "\t\tpos_emb = self.position_embedding_table(torch.arange(T, device=device)) # (T, C)\n",
    "\t\tx = tok_emb + pos_emb # (B, T, C)\n",
    "\t\tx = self.blocks(x) # (B, T, C)\n",
    "\t\tx = self.ln_f(x)\n",
    "\t\tlogits = self.lm_head(x) # (B, T, vocab_size)\n",
    "\n",
    "\t\t# Note that if targets are None, to view operation is done, it's just the embedding above with B, T, C shape\n",
    "\t\tif targets is None:\n",
    "\t\t\tloss = None\n",
    "\t\telse:\n",
    "\t\t\t# reshape for pytorch\n",
    "\t\t\tB, T, C = logits.shape\n",
    "\t\t\tlogits = logits.view(B*T, C) # We do this beause pytorch requires specific shape for cross entropy, so we convert to 2 dimensional. B*T, C stretches out the array while preserving the C values\n",
    "\t\t\ttargets = targets.view(B*T)\n",
    "\t\t\tloss = F.cross_entropy(logits, targets)\n",
    "\n",
    "\t\treturn logits, loss\n",
    "\n",
    "\tdef generate(self, idx, max_new_tokens):\n",
    "        # idx is (B, T) array of indices in the current context\n",
    "\t\tfor _ in range(max_new_tokens):\n",
    "\t\t\t# crop idx to the last block_size tokens\n",
    "\t\t\tidx_cond = idx[:, -block_size:]\n",
    "\t\t\t# Forward the model / get predictions\n",
    "\t\t\tlogits, loss = self(idx_cond) # (B, T, C)\n",
    "\t\t\t# focus only on the last time step\n",
    "\t\t\tlogits = logits[:, -1, :] # (B, C) where it only grabs the last token in the sequence since this can only be used for next char probs\n",
    "\t\t\t# apply softmax to get probs\n",
    "\t\t\tprobs = F.softmax(logits, dim=-1) # (B, C) -  Since it's a 1x65, give the probabilities along those 65\n",
    "\t\t\t# sample from distribution\n",
    "\t\t\tidx_next = torch.multinomial(probs, num_samples=1)\n",
    "\t\t\t# append sampled index to the running sequence\n",
    "\t\t\tidx = torch.cat((idx, idx_next), dim=1) # (B, T+1)\n",
    "\t\treturn idx\n",
    "        \n",
    "m = BigramLanguageModel()\n",
    "logits, loss = m(xb, yb)\n",
    "print(logits.shape, loss)"
   ]
  },
  {
   "cell_type": "code",
   "execution_count": 67,
   "id": "2f890c9c-028f-4982-b05d-51e3d703b2ba",
   "metadata": {},
   "outputs": [
    {
     "data": {
      "text/plain": [
       "torch.Size([4, 8, 32])"
      ]
     },
     "execution_count": 67,
     "metadata": {},
     "output_type": "execute_result"
    }
   ],
   "source": [
    "# class MultiHeadAttention(nn.Module):\n",
    "# \t\"\"\" multiple heads of self-attention in parallel\"\"\"\n",
    "\n",
    "# \tdef __init__(self, num_heads, head_size):\n",
    "# \t\tsuper().__init__()\n",
    "# \t\tself.heads = [Head(head_size) for _ in num_heads]\n",
    "\n",
    "heads = [Head(8) for _ in range(4)]\n",
    "\n",
    "# # test = torch.stack([xb, xb], dim=0)\n",
    "test = m.token_embedding_table(xb)\n",
    "test.shape\n",
    "\n",
    "# heads[0](test)\n",
    "\n",
    "# # for h in heads:\n",
    "# #     print(h(test))\n",
    "\n",
    "total = [h(test) for h in heads]\n",
    "total[1].shape\n",
    "torch .cat(total, dim=-1).shape\n"
   ]
  },
  {
   "cell_type": "code",
   "execution_count": null,
   "id": "4323a842-6398-4eb5-8d06-4847bb108a41",
   "metadata": {},
   "outputs": [],
   "source": [
    "logits, loss = m(xb[:4])\n",
    "# xb[:4]\n",
    "\n",
    "xb[0], logits[0]"
   ]
  },
  {
   "cell_type": "code",
   "execution_count": null,
   "id": "9286fcc8-4b79-46c9-9e86-ffd4149296f2",
   "metadata": {},
   "outputs": [],
   "source": [
    "optimizer = torch.optim.AdamW(m.parameters(), lr=1e-3)"
   ]
  },
  {
   "cell_type": "code",
   "execution_count": null,
   "id": "8a058b5a-891e-4f97-b721-0471984de69e",
   "metadata": {},
   "outputs": [],
   "source": [
    "batch_size = 32\n",
    "for steps in range(100):\n",
    "\n",
    "    # sample the batch of data\n",
    "    xb, yb = get_batch('train')\n",
    "\n",
    "    # evaluate the loss\n",
    "    logits, loss = m(xb, yb)\n",
    "    optimizer.zero_grad(set_to_none=True)\n",
    "    loss.backward()\n",
    "    optimizer.step()\n",
    "\n",
    "print(loss)"
   ]
  },
  {
   "cell_type": "code",
   "execution_count": null,
   "id": "75b4e2de-60cb-4e9a-8450-da8b585d1f9e",
   "metadata": {},
   "outputs": [],
   "source": [
    "decode(m.generate(idx=torch.zeros((1,1), dtype=torch.long), max_new_tokens=200)[0].tolist())"
   ]
  },
  {
   "cell_type": "code",
   "execution_count": null,
   "id": "b71cc9b1-72f4-4665-b509-8b506a110063",
   "metadata": {},
   "outputs": [],
   "source": [
    "for p in m.parameters():\n",
    "    print(p.data) \n",
    "\n",
    "# m.parameters()"
   ]
  },
  {
   "cell_type": "code",
   "execution_count": null,
   "id": "0c68ce50-05f2-4ae2-be7b-76a5207d2b6d",
   "metadata": {},
   "outputs": [],
   "source": [
    "m.token_embedding_table.weight[0]\n",
    "m(torch.tensor([0]))[0]"
   ]
  },
  {
   "cell_type": "code",
   "execution_count": null,
   "id": "66ddc9a9-4ee3-4e3b-9c49-d8519ff0eb80",
   "metadata": {},
   "outputs": [],
   "source": [
    "torch.manual_seed(42)\n",
    "# a = torch.ones(3, 3)\n",
    "a = torch.tril(torch.ones(3, 3), diagonal=0)# / a.sum(1)\n",
    "a = a / torch.sum(a, 1, keepdim=True)\n",
    "b = torch.randint(0, 10, (3,2)).float()\n",
    "c = a @ b\n",
    "# c = (a @ b) / a.sum(1).view(3, -1)\n",
    "\n",
    "print(a)\n",
    "print(b)\n",
    "print(c)\n",
    "\n",
    "# a @ b = c\n",
    "# c.shape, a.sum(1).shape, a.sum(1).view(3, -1)\n",
    "\n",
    "# c / a.sum(1).view(3, -1)"
   ]
  },
  {
   "cell_type": "code",
   "execution_count": null,
   "id": "5a895662-a41a-4302-904d-4ea011205030",
   "metadata": {},
   "outputs": [],
   "source": [
    "torch.manual_seed(1337)\n",
    "B,T,C = 4,8,2 # batch, time, channels\n",
    "x = torch.randn(B,T,C)\n",
    "x.shape\n",
    "x\n",
    "\n",
    "# x, x.view(B*T, C)"
   ]
  },
  {
   "cell_type": "code",
   "execution_count": null,
   "id": "37f53109-bfeb-44a8-b687-9071e6dddb79",
   "metadata": {},
   "outputs": [],
   "source": [
    "# we want x[b,t] = mean_{i<=t} x[b,i]\n",
    "\n",
    "# version 1\n",
    "xbow = torch.zeros(B,T,C)\n",
    "for b in range(B):\n",
    "    for t in range(T):\n",
    "        xprev = x[b,:t+1] # (T,C)\n",
    "        xbow[b,t] = torch.mean(xprev, 0)\n",
    "\n",
    "x[0], xbow[0], torch.mean(x[0], 0)"
   ]
  },
  {
   "cell_type": "code",
   "execution_count": null,
   "id": "d6d64f81-7ecf-4d70-bac4-d312f2c382cc",
   "metadata": {},
   "outputs": [],
   "source": [
    "# version 2\n",
    "# 4x8x8 @ 4x8x2 --> 4x8x2\n",
    "\n",
    "wei = torch.tril(torch.ones(T, T))\n",
    "wei = wei / wei.sum(1, keepdim=True)\n",
    "xbow2 = wei @ x\n",
    "# xbow2[0] == xbow[0]\n",
    "# torch.allclose(xbow, xbow2)"
   ]
  },
  {
   "cell_type": "code",
   "execution_count": null,
   "id": "be2f328f-2243-4624-beb9-11713619c757",
   "metadata": {},
   "outputs": [],
   "source": [
    "# version 3\n",
    "tril = torch.tril(torch.ones(T, T))\n",
    "wei = torch.zeros((T,T))\n",
    "wei = wei.masked_fill(tril == 0, float('-inf'))\n",
    "wei = F.softmax(wei, dim=-1)\n",
    "xbow3 = wei @ x\n",
    "# torch.allclose(xbow3, xbow)"
   ]
  },
  {
   "cell_type": "code",
   "execution_count": null,
   "id": "4f5c92f8-2d3c-48d2-b485-8f886ebba82d",
   "metadata": {},
   "outputs": [],
   "source": [
    "# version 4: self-attention!\n",
    "torch.manual_seed(1337)\n",
    "B,T,C = 4,8,32 # batch, time, channels/classes\n",
    "x = torch.randn(B,T,C)\n",
    "\n",
    "# let's see a single Head perform self-attention\n",
    "head_size = 16\n",
    "key = nn.Linear(C, head_size, bias=False)\n",
    "query = nn.Linear(C, head_size, bias=False)\n",
    "value = nn.Linear(C, head_size, bias=False)\n",
    "\n",
    "k = key(x)   # (B, T, 16)\n",
    "q = query(x) # (B, T, 16)\n",
    "wei = q @ k.transpose(-2, -1) # (B, T, T)\n",
    "\n",
    "tril = torch.tril(torch.ones(T, T))\n",
    "wei = wei.masked_fill(tril == 0, float('-inf'))\n",
    "wei = F.softmax(wei, dim=-1)\n",
    "\n",
    "v = value(x)\n",
    "out = wei @ v\n",
    "out.shape\n",
    "\n",
    "# k.transpose(-1).shape\n",
    "\n",
    "# v = value(x) \n",
    "\n",
    "# q.shape, k.shape\n",
    "# q.shape, k.transpose(-2, -1).shape\n",
    "# q[0].shape, k.transpose(-2, -1)[0].shape\n",
    "# q[0] @ k.transpose(-2, -1)[0]\n",
    "# # q[0]\n",
    "# F.softmax((q[0] @ k.transpose(-2, -1)[0]), dim=-1)\n",
    "\n",
    "# k.var(), q.var(), wei.var()"
   ]
  }
 ],
 "metadata": {
  "kernelspec": {
   "display_name": "Python 3 (ipykernel)",
   "language": "python",
   "name": "python3"
  },
  "language_info": {
   "codemirror_mode": {
    "name": "ipython",
    "version": 3
   },
   "file_extension": ".py",
   "mimetype": "text/x-python",
   "name": "python",
   "nbconvert_exporter": "python",
   "pygments_lexer": "ipython3",
   "version": "3.12.9"
  }
 },
 "nbformat": 4,
 "nbformat_minor": 5
}
